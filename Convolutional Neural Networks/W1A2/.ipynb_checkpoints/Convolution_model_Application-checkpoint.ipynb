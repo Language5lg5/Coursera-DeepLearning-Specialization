{
 "cells": [
  {
   "cell_type": "markdown",
   "metadata": {},
   "source": [
    "# Convolutional Neural Networks: Application\n",
    "\n",
    "Welcome to Course 4's second assignment! In this notebook, you will:\n",
    "\n",
    "- Create a mood classifer using the TF Keras Sequential API\n",
    "- Build a ConvNet to identify sign language digits using the TF Keras Functional API\n",
    "\n",
    "**After this assignment you will be able to:**\n",
    "\n",
    "- Build and train a ConvNet in TensorFlow for a __binary__ classification problem\n",
    "- Build and train a ConvNet in TensorFlow for a __multiclass__ classification problem\n",
    "- Explain different use cases for the Sequential and Functional APIs\n",
    "\n",
    "To complete this assignment, you should already be familiar with TensorFlow. If you are not, please refer back to the **TensorFlow Tutorial** of the third week of Course 2 (\"**Improving deep neural networks**\").\n",
    "\n",
    "## Important Note on Submission to the AutoGrader\n",
    "\n",
    "Before submitting your assignment to the AutoGrader, please make sure you are not doing the following:\n",
    "\n",
    "1. You have not added any _extra_ `print` statement(s) in the assignment.\n",
    "2. You have not added any _extra_ code cell(s) in the assignment.\n",
    "3. You have not changed any of the function parameters.\n",
    "4. You are not using any global variables inside your graded exercises. Unless specifically instructed to do so, please refrain from it and use the local variables instead.\n",
    "5. You are not changing the assignment code where it is not required, like creating _extra_ variables.\n",
    "\n",
    "If you do any of the following, you will get something like, `Grader Error: Grader feedback not found` (or similarly unexpected) error upon submitting your assignment. Before asking for help/debugging the errors in your assignment, check for these first. If this is the case, and you don't remember the changes you have made, you can get a fresh copy of the assignment by following these [instructions](https://www.coursera.org/learn/convolutional-neural-networks/supplement/DS4yP/h-ow-to-refresh-your-workspace)."
   ]
  },
  {
   "cell_type": "markdown",
   "metadata": {},
   "source": [
    "## Table of Contents\n",
    "\n",
    "- [1 - Packages](#1)\n",
    "    - [1.1 - Load the Data and Split the Data into Train/Test Sets](#1-1)\n",
    "- [2 - Layers in TF Keras](#2)\n",
    "- [3 - The Sequential API](#3)\n",
    "    - [3.1 - Create the Sequential Model](#3-1)\n",
    "        - [Exercise 1 - happyModel](#ex-1)\n",
    "    - [3.2 - Train and Evaluate the Model](#3-2)\n",
    "- [4 - The Functional API](#4)\n",
    "    - [4.1 - Load the SIGNS Dataset](#4-1)\n",
    "    - [4.2 - Split the Data into Train/Test Sets](#4-2)\n",
    "    - [4.3 - Forward Propagation](#4-3)\n",
    "        - [Exercise 2 - convolutional_model](#ex-2)\n",
    "    - [4.4 - Train the Model](#4-4)\n",
    "- [5 - History Object](#5)\n",
    "- [6 - Bibliography](#6)"
   ]
  },
  {
   "cell_type": "markdown",
   "metadata": {},
   "source": [
    "<a name='1'></a>\n",
    "## 1 - Packages\n",
    "\n",
    "As usual, begin by loading in the packages."
   ]
  },
  {
   "cell_type": "code",
   "execution_count": null,
   "metadata": {
    "deletable": false,
    "editable": false
   },
   "outputs": [],
   "source": [
    "### v1.1"
   ]
  },
  {
   "cell_type": "code",
   "execution_count": 1,
   "metadata": {},
   "outputs": [],
   "source": [
    "import math\n",
    "import numpy as np\n",
    "import h5py\n",
    "import matplotlib.pyplot as plt\n",
    "from matplotlib.pyplot import imread\n",
    "import scipy\n",
    "from PIL import Image\n",
    "import pandas as pd\n",
    "import tensorflow as tf\n",
    "import tensorflow.keras.layers as tfl\n",
    "from tensorflow.python.framework import ops\n",
    "from cnn_utils import *\n",
    "from test_utils import summary, comparator\n",
    "\n",
    "%matplotlib inline\n",
    "np.random.seed(1)"
   ]
  },
  {
   "cell_type": "markdown",
   "metadata": {},
   "source": [
    "<a name='1-1'></a>\n",
    "### 1.1 - Load the Data and Split the Data into Train/Test Sets\n",
    "\n",
    "You'll be using the Happy House dataset for this part of the assignment, which contains images of peoples' faces. Your task will be to build a ConvNet that determines whether the people in the images are smiling or not -- because they only get to enter the house if they're smiling!  "
   ]
  },
  {
   "cell_type": "code",
   "execution_count": 2,
   "metadata": {},
   "outputs": [
    {
     "name": "stdout",
     "output_type": "stream",
     "text": [
      "number of training examples = 600\n",
      "number of test examples = 150\n",
      "X_train shape: (600, 64, 64, 3)\n",
      "Y_train shape: (600, 1)\n",
      "X_test shape: (150, 64, 64, 3)\n",
      "Y_test shape: (150, 1)\n"
     ]
    }
   ],
   "source": [
    "X_train_orig, Y_train_orig, X_test_orig, Y_test_orig, classes = load_happy_dataset()\n",
    "\n",
    "# Normalize image vectors\n",
    "X_train = X_train_orig/255.\n",
    "X_test = X_test_orig/255.\n",
    "\n",
    "# Reshape\n",
    "Y_train = Y_train_orig.T\n",
    "Y_test = Y_test_orig.T\n",
    "\n",
    "print (\"number of training examples = \" + str(X_train.shape[0]))\n",
    "print (\"number of test examples = \" + str(X_test.shape[0]))\n",
    "print (\"X_train shape: \" + str(X_train.shape))\n",
    "print (\"Y_train shape: \" + str(Y_train.shape))\n",
    "print (\"X_test shape: \" + str(X_test.shape))\n",
    "print (\"Y_test shape: \" + str(Y_test.shape))"
   ]
  },
  {
   "cell_type": "markdown",
   "metadata": {},
   "source": [
    "You can display the images contained in the dataset. Images are **64x64** pixels in RGB format (3 channels)."
   ]
  },
  {
   "cell_type": "code",
   "execution_count": 3,
   "metadata": {},
   "outputs": [
    {
     "data": {
      "image/png": "[encoded data removed]",
      "text/plain": [
       "<Figure size 432x288 with 1 Axes>"
      ]
     },
     "metadata": {
      "needs_background": "light"
     },
     "output_type": "display_data"
    }
   ],
   "source": [
    "index = 124\n",
    "plt.imshow(X_train_orig[index]) #display sample training image\n",
    "plt.show()"
   ]
  },
  {
   "cell_type": "markdown",
   "metadata": {},
   "source": [
    "<a name='2'></a>\n",
    "## 2 - Layers in TF Keras \n",
    "\n",
    "In the previous assignment, you created layers manually in numpy. In TF Keras, you don't have to write code directly to create layers. Rather, TF Keras has pre-defined layers you can use. \n",
    "\n",
    "When you create a layer in TF Keras, you are creating a function that takes some input and transforms it into an output you can reuse later. Nice and easy! "
   ]
  },
  {
   "cell_type": "markdown",
   "metadata": {},
   "source": [
    "<a name='3'></a>\n",
    "## 3 - The Sequential API\n",
    "\n",
    "In the previous assignment, you built helper functions using `numpy` to understand the mechanics behind convolutional neural networks. Most practical applications of deep learning today are built using programming frameworks, which have many built-in functions you can simply call. Keras is a high-level abstraction built on top of TensorFlow, which allows for even more simplified and optimized model creation and training. \n",
    "\n",
    "For the first part of this assignment, you'll create a model using TF Keras' Sequential API, which allows you to build layer by layer, and is ideal for building models where each layer has **exactly one** input tensor and **one** output tensor. \n",
    "\n",
    "As you'll see, using the Sequential API is simple and straightforward, but is only appropriate for simpler, more straightforward tasks. Later in this notebook you'll spend some time building with a more flexible, powerful alternative: the Functional API. \n",
    " "
   ]
  },
  {
   "cell_type": "markdown",
   "metadata": {},
   "source": [
    "<a name='3-1'></a>\n",
    "### 3.1 - Create the Sequential Model\n",
    "\n",
    "As mentioned earlier, the TensorFlow Keras Sequential API can be used to build simple models with layer operations that proceed in a sequential order. \n",
    "\n",
    "You can also add layers incrementally to a Sequential model with the `.add()` method, or remove them using the `.pop()` method, much like you would in a regular Python list.\n",
    "\n",
    "Actually, you can think of a Sequential model as behaving like a list of layers. Like Python lists, Sequential layers are ordered, and the order in which they are specified matters.  If your model is non-linear or contains layers with multiple inputs or outputs, a Sequential model wouldn't be the right choice!\n",
    "\n",
    "For any layer construction in Keras, you'll need to specify the input shape in advance. This is because in Keras, the shape of the weights is based on the shape of the inputs. The weights are only created when the model first sees some input data. Sequential models can be created by passing a list of layers to the Sequential constructor, like you will do in the next assignment.\n",
    "\n",
    "<a name='ex-1'></a>\n",
    "### Exercise 1 - happyModel\n",
    "\n",
    "Implement the `happyModel` function below to build the following model: `ZEROPAD2D -> CONV2D -> BATCHNORM -> RELU -> MAXPOOL -> FLATTEN -> DENSE`. Take help from [tf.keras.layers](https://www.tensorflow.org/api_docs/python/tf/keras/layers) \n",
    "\n",
    "Also, plug in the following parameters for all the steps:\n",
    "\n",
    " - [ZeroPadding2D](https://www.tensorflow.org/api_docs/python/tf/keras/layers/ZeroPadding2D): padding 3, input shape 64 x 64 x 3\n",
    " - [Conv2D](https://www.tensorflow.org/api_docs/python/tf/keras/layers/Conv2D): Use 32 7x7 filters, stride 1\n",
    " - [BatchNormalization](https://www.tensorflow.org/api_docs/python/tf/keras/layers/BatchNormalization): for axis 3\n",
    " - [ReLU](https://www.tensorflow.org/api_docs/python/tf/keras/layers/ReLU)\n",
    " - [MaxPool2D](https://www.tensorflow.org/api_docs/python/tf/keras/layers/MaxPool2D): Using default parameters\n",
    " - [Flatten](https://www.tensorflow.org/api_docs/python/tf/keras/layers/Flatten) the previous output.\n",
    " - Fully-connected ([Dense](https://www.tensorflow.org/api_docs/python/tf/keras/layers/Dense)) layer: Apply a fully connected layer with 1 neuron and a sigmoid activation. \n",
    " \n",
    " \n",
    " **Hint:**\n",
    " \n",
    " Use **tfl** as shorthand for **tensorflow.keras.layers**"
   ]
  },
  {
   "cell_type": "code",
   "execution_count": 13,
   "metadata": {
    "deletable": false,
    "nbgrader": {
     "cell_type": "code",
     "checksum": "95d28b191f257bdd5b70c7b8952559d5",
     "grade": false,
     "grade_id": "cell-0e56d3fc28b69aec",
     "locked": false,
     "schema_version": 3,
     "solution": true,
     "task": false
    }
   },
   "outputs": [],
   "source": [
    "# GRADED FUNCTION: happyModel\n",
    "\n",
    "def happyModel():\n",
    "    \"\"\"\n",
    "    Implements the forward propagation for the binary classification model:\n",
    "    ZEROPAD2D -> CONV2D -> BATCHNORM -> RELU -> MAXPOOL -> FLATTEN -> DENSE\n",
    "    \n",
    "    Note that for simplicity and grading purposes, you'll hard-code all the values\n",
    "    such as the stride and kernel (filter) sizes. \n",
    "    Normally, functions should take these values as function parameters.\n",
    "    \n",
    "    Arguments:\n",
    "    None\n",
    "\n",
    "    Returns:\n",
    "    model -- TF Keras model (object containing the information for the entire training process) \n",
    "    \"\"\"\n",
    "    model = tf.keras.Sequential([\n",
    "            ## ZeroPadding2D with padding 3, input shape of 64 x 64 x 3\n",
    "            \n",
    "            ## Conv2D with 32 7x7 filters and stride of 1\n",
    "            \n",
    "            ## BatchNormalization for axis 3\n",
    "            \n",
    "            ## ReLU\n",
    "            \n",
    "            ## Max Pooling 2D with default parameters\n",
    "            \n",
    "            ## Flatten layer\n",
    "            \n",
    "            ## Dense layer with 1 unit for output & 'sigmoid' activation\n",
    "            \n",
    "            # YOUR CODE STARTS HERE\n",
    "            tfl.ZeroPadding2D(padding = 3, input_shape=(64, 64, 3)),\n",
    "            tfl.Conv2D(32, 7, strides = 1),\n",
    "            tfl.BatchNormalization(axis = 3),\n",
    "            tfl.ReLU(),\n",
    "            tfl.MaxPooling2D(),\n",
    "            tfl.Flatten(),\n",
    "            tfl.Dense(units = 1, activation = 'sigmoid')\n",
    "            # YOUR CODE ENDS HERE\n",
    "        ])\n",
    "    \n",
    "    return model"
   ]
  },
  {
   "cell_type": "code",
   "execution_count": 14,
   "metadata": {
    "deletable": false,
    "editable": false,
    "nbgrader": {
     "cell_type": "code",
     "checksum": "8d3575c950e2e78149be2d05d671c80d",
     "grade": true,
     "grade_id": "cell-e3e1046e5c33d775",
     "locked": true,
     "points": 10,
     "schema_version": 3,
     "solution": false,
     "task": false
    }
   },
   "outputs": [
    {
     "name": "stdout",
     "output_type": "stream",
     "text": [
      "['ZeroPadding2D', (None, 70, 70, 3), 0, ((3, 3), (3, 3))]\n",
      "['Conv2D', (None, 64, 64, 32), 4736, 'valid', 'linear', 'GlorotUniform']\n",
      "['BatchNormalization', (None, 64, 64, 32), 128]\n",
      "['ReLU', (None, 64, 64, 32), 0]\n",
      "['MaxPooling2D', (None, 32, 32, 32), 0, (2, 2), (2, 2), 'valid']\n",
      "['Flatten', (None, 32768), 0]\n",
      "['Dense', (None, 1), 32769, 'sigmoid']\n",
      "\u001b[32mAll tests passed!\u001b[0m\n"
     ]
    }
   ],
   "source": [
    "happy_model = happyModel()\n",
    "# Print a summary for each layer\n",
    "for layer in summary(happy_model):\n",
    "    print(layer)\n",
    "    \n",
    "output = [['ZeroPadding2D', (None, 70, 70, 3), 0, ((3, 3), (3, 3))],\n",
    "            ['Conv2D', (None, 64, 64, 32), 4736, 'valid', 'linear', 'GlorotUniform'],\n",
    "            ['BatchNormalization', (None, 64, 64, 32), 128],\n",
    "            ['ReLU', (None, 64, 64, 32), 0],\n",
    "            ['MaxPooling2D', (None, 32, 32, 32), 0, (2, 2), (2, 2), 'valid'],\n",
    "            ['Flatten', (None, 32768), 0],\n",
    "            ['Dense', (None, 1), 32769, 'sigmoid']]\n",
    "    \n",
    "comparator(summary(happy_model), output)"
   ]
  },
  {
   "cell_type": "markdown",
   "metadata": {},
   "source": [
    "#### Expected Output:\n",
    "\n",
    "```\n",
    "['ZeroPadding2D', (None, 70, 70, 3), 0, ((3, 3), (3, 3))]\n",
    "['Conv2D', (None, 64, 64, 32), 4736, 'valid', 'linear', 'GlorotUniform']\n",
    "['BatchNormalization', (None, 64, 64, 32), 128]\n",
    "['ReLU', (None, 64, 64, 32), 0]\n",
    "['MaxPooling2D', (None, 32, 32, 32), 0, (2, 2), (2, 2), 'valid']\n",
    "['Flatten', (None, 32768), 0]\n",
    "['Dense', (None, 1), 32769, 'sigmoid']\n",
    "All tests passed!\n",
    "```"
   ]
  },
  {
   "cell_type": "markdown",
   "metadata": {},
   "source": [
    "Now that your model is created, you can compile it for training with an optimizer and loss of your choice. When the string `accuracy` is specified as a metric, the type of accuracy used will be automatically converted based on the loss function used. This is one of the many optimizations built into TensorFlow that make your life easier! If you'd like to read more on how the compiler operates, check the docs [here](https://www.tensorflow.org/api_docs/python/tf/keras/Model#compile)."
   ]
  },
  {
   "cell_type": "code",
   "execution_count": 15,
   "metadata": {},
   "outputs": [],
   "source": [
    "happy_model.compile(optimizer='adam',\n",
    "                   loss='binary_crossentropy',\n",
    "                   metrics=['accuracy'])"
   ]
  },
  {
   "cell_type": "markdown",
   "metadata": {},
   "source": [
    "It's time to check your model's parameters with the `.summary()` method. This will display the types of layers you have, the shape of the outputs, and how many parameters are in each layer. "
   ]
  },
  {
   "cell_type": "code",
   "execution_count": 16,
   "metadata": {},
   "outputs": [
    {
     "name": "stdout",
     "output_type": "stream",
     "text": [
      "Model: \"sequential_3\"\n",
      "_________________________________________________________________\n",
      "Layer (type)                 Output Shape              Param #   \n",
      "=================================================================\n",
      "zero_padding2d_4 (ZeroPaddin (None, 70, 70, 3)         0         \n",
      "_________________________________________________________________\n",
      "conv2d_4 (Conv2D)            (None, 64, 64, 32)        4736      \n",
      "_________________________________________________________________\n",
      "batch_normalization_4 (Batch (None, 64, 64, 32)        128       \n",
      "_________________________________________________________________\n",
      "re_lu_4 (ReLU)               (None, 64, 64, 32)        0         \n",
      "_________________________________________________________________\n",
      "max_pooling2d_3 (MaxPooling2 (None, 32, 32, 32)        0         \n",
      "_________________________________________________________________\n",
      "flatten_3 (Flatten)          (None, 32768)             0         \n",
      "_________________________________________________________________\n",
      "dense_3 (Dense)              (None, 1)                 32769     \n",
      "=================================================================\n",
      "Total params: 37,633\n",
      "Trainable params: 37,569\n",
      "Non-trainable params: 64\n",
      "_________________________________________________________________\n"
     ]
    }
   ],
   "source": [
    "happy_model.summary()"
   ]
  },
  {
   "cell_type": "markdown",
   "metadata": {},
   "source": [
    "<a name='3-2'></a>\n",
    "### 3.2 - Train and Evaluate the Model\n",
    "\n",
    "After creating the model, compiling it with your choice of optimizer and loss function, and doing a sanity check on its contents, you are now ready to build! \n",
    "\n",
    "Simply call `.fit()` to train. That's it! No need for mini-batching, saving, or complex backpropagation computations. That's all been done for you, as you're using a TensorFlow dataset with the batches specified already. You do have the option to specify epoch number or minibatch size if you like (for example, in the case of an un-batched dataset)."
   ]
  },
  {
   "cell_type": "code",
   "execution_count": 17,
   "metadata": {},
   "outputs": [
    {
     "name": "stdout",
     "output_type": "stream",
     "text": [
      "Epoch 1/10\n",
      "38/38 [==============================] - 4s 105ms/step - loss: 1.9063 - accuracy: 0.6217\n",
      "Epoch 2/10\n",
      "38/38 [==============================] - 4s 97ms/step - loss: 0.5631 - accuracy: 0.8517\n",
      "Epoch 3/10\n",
      "38/38 [==============================] - 4s 95ms/step - loss: 0.1864 - accuracy: 0.9183\n",
      "Epoch 4/10\n",
      "38/38 [==============================] - 4s 100ms/step - loss: 0.1216 - accuracy: 0.9467\n",
      "Epoch 5/10\n",
      "38/38 [==============================] - 4s 95ms/step - loss: 0.1214 - accuracy: 0.9517\n",
      "Epoch 6/10\n",
      "38/38 [==============================] - 4s 97ms/step - loss: 0.1354 - accuracy: 0.9500\n",
      "Epoch 7/10\n",
      "38/38 [==============================] - 4s 95ms/step - loss: 0.1566 - accuracy: 0.9333\n",
      "Epoch 8/10\n",
      "38/38 [==============================] - 4s 95ms/step - loss: 0.0879 - accuracy: 0.9667\n",
      "Epoch 9/10\n",
      "38/38 [==============================] - 4s 97ms/step - loss: 0.0715 - accuracy: 0.9750\n",
      "Epoch 10/10\n",
      "38/38 [==============================] - 4s 97ms/step - loss: 0.0663 - accuracy: 0.9767\n"
     ]
    },
    {
     "data": {
      "text/plain": [
       "<tensorflow.python.keras.callbacks.History at 0x7f1d766005d0>"
      ]
     },
     "execution_count": 17,
     "metadata": {},
     "output_type": "execute_result"
    }
   ],
   "source": [
    "happy_model.fit(X_train, Y_train, epochs=10, batch_size=16)"
   ]
  },
  {
   "cell_type": "markdown",
   "metadata": {},
   "source": [
    "After that completes, just use `.evaluate()` to evaluate against your test set. This function will print the value of the loss function and the performance metrics specified during the compilation of the model. In this case, the `binary_crossentropy` and the `accuracy` respectively."
   ]
  },
  {
   "cell_type": "code",
   "execution_count": 18,
   "metadata": {},
   "outputs": [
    {
     "name": "stdout",
     "output_type": "stream",
     "text": [
      "5/5 [==============================] - 0s 35ms/step - loss: 0.1348 - accuracy: 0.9467\n"
     ]
    },
    {
     "data": {
      "text/plain": [
       "[0.13475413620471954, 0.9466666579246521]"
      ]
     },
     "execution_count": 18,
     "metadata": {},
     "output_type": "execute_result"
    }
   ],
   "source": [
    "happy_model.evaluate(X_test, Y_test)"
   ]
  },
  {
   "cell_type": "markdown",
   "metadata": {},
   "source": [
    "Easy, right? But what if you need to build a model with shared layers, branches, or multiple inputs and outputs? This is where Sequential, with its beautifully simple yet limited functionality, won't be able to help you. \n",
    "\n",
    "Next up: Enter the Functional API, your slightly more complex, highly flexible friend.  "
   ]
  },
  {
   "cell_type": "markdown",
   "metadata": {},
   "source": [
    "<a name='4'></a>\n",
    "## 4 - The Functional API"
   ]
  },
  {
   "cell_type": "markdown",
   "metadata": {},
   "source": [
    "Welcome to the second half of the assignment, where you'll use Keras' flexible [Functional API](https://www.tensorflow.org/guide/keras/functional) to build a ConvNet that can differentiate between 6 sign language digits. \n",
    "\n",
    "The Functional API can handle models with non-linear topology, shared layers, as well as layers with multiple inputs or outputs. Imagine that, where the Sequential API requires the model to move in a linear fashion through its layers, the Functional API allows much more flexibility. Where Sequential is a straight line, a Functional model is a graph, where the nodes of the layers can connect in many more ways than one. \n",
    "\n",
    "In the visual example below, the one possible direction of the movement Sequential model is shown in contrast to a skip connection, which is just one of the many ways a Functional model can be constructed. A skip connection, as you might have guessed, skips some layer in the network and feeds the output to a later layer in the network. Don't worry, you'll be spending more time with skip connections very soon! "
   ]
  },
  {
   "cell_type": "markdown",
   "metadata": {},
   "source": [
    "<img src=\"images/seq_vs_func.png\" style=\"width:350px;height:200px;\">"
   ]
  },
  {
   "cell_type": "markdown",
   "metadata": {},
   "source": [
    "<a name='4-1'></a>\n",
    "### 4.1 - Load the SIGNS Dataset\n",
    "\n",
    "As a reminder, the SIGNS dataset is a collection of 6 signs representing numbers from 0 to 5."
   ]
  },
  {
   "cell_type": "code",
   "execution_count": 19,
   "metadata": {},
   "outputs": [],
   "source": [
    "# Loading the data (signs)\n",
    "X_train_orig, Y_train_orig, X_test_orig, Y_test_orig, classes = load_signs_dataset()"
   ]
  },
  {
   "cell_type": "markdown",
   "metadata": {},
   "source": [
    "<img src=\"images/SIGNS.png\" style=\"width:800px;height:300px;\">\n",
    "\n",
    "The next cell will show you an example of a labelled image in the dataset. Feel free to change the value of `index` below and re-run to see different examples. "
   ]
  },
  {
   "cell_type": "code",
   "execution_count": 20,
   "metadata": {},
   "outputs": [
    {
     "name": "stdout",
     "output_type": "stream",
     "text": [
      "y = 4\n"
     ]
    },
    {
     "data": {
      "image/png": "[encoded data removed]",
      "text/plain": [
       "<Figure size 432x288 with 1 Axes>"
      ]
     },
     "metadata": {
      "needs_background": "light"
     },
     "output_type": "display_data"
    }
   ],
   "source": [
    "# Example of an image from the dataset\n",
    "index = 9\n",
    "plt.imshow(X_train_orig[index])\n",
    "print (\"y = \" + str(np.squeeze(Y_train_orig[:, index])))"
   ]
  },
  {
   "cell_type": "markdown",
   "metadata": {},
   "source": [
    "<a name='4-2'></a>\n",
    "### 4.2 - Split the Data into Train/Test Sets\n",
    "\n",
    "In Course 2, you built a fully-connected network for this dataset. But since this is an image dataset, it is more natural to apply a ConvNet to it.\n",
    "\n",
    "To get started, let's examine the shapes of your data. "
   ]
  },
  {
   "cell_type": "code",
   "execution_count": 21,
   "metadata": {},
   "outputs": [
    {
     "name": "stdout",
     "output_type": "stream",
     "text": [
      "number of training examples = 1080\n",
      "number of test examples = 120\n",
      "X_train shape: (1080, 64, 64, 3)\n",
      "Y_train shape: (1080, 6)\n",
      "X_test shape: (120, 64, 64, 3)\n",
      "Y_test shape: (120, 6)\n"
     ]
    }
   ],
   "source": [
    "X_train = X_train_orig/255.\n",
    "X_test = X_test_orig/255.\n",
    "Y_train = convert_to_one_hot(Y_train_orig, 6).T\n",
    "Y_test = convert_to_one_hot(Y_test_orig, 6).T\n",
    "print (\"number of training examples = \" + str(X_train.shape[0]))\n",
    "print (\"number of test examples = \" + str(X_test.shape[0]))\n",
    "print (\"X_train shape: \" + str(X_train.shape))\n",
    "print (\"Y_train shape: \" + str(Y_train.shape))\n",
    "print (\"X_test shape: \" + str(X_test.shape))\n",
    "print (\"Y_test shape: \" + str(Y_test.shape))"
   ]
  },
  {
   "cell_type": "markdown",
   "metadata": {},
   "source": [
    "<a name='4-3'></a>\n",
    "### 4.3 - Forward Propagation\n",
    "\n",
    "In TensorFlow, there are built-in functions that implement the convolution steps for you. By now, you should be familiar with how TensorFlow builds computational graphs. In the [Functional API](https://www.tensorflow.org/guide/keras/functional), you create a graph of layers. This is what allows such great flexibility.\n",
    "\n",
    "However, the following model could also be defined using the Sequential API since the information flow is on a single line. But don't deviate. What we want you to learn is to use the functional API.\n",
    "\n",
    "Begin building your graph of layers by creating an input node that functions as a callable object:\n",
    "\n",
    "- **input_img = tf.keras.Input(shape=input_shape):** \n",
    "\n",
    "Then, create a new node in the graph of layers by calling a layer on the `input_img` object: \n",
    "\n",
    "- **tf.keras.layers.Conv2D(filters= ... , kernel_size= ... , padding='same')(input_img):** Read the full documentation on [Conv2D](https://www.tensorflow.org/api_docs/python/tf/keras/layers/Conv2D).\n",
    "\n",
    "- **tf.keras.layers.MaxPool2D(pool_size=(f, f), strides=(s, s), padding='same'):** `MaxPool2D()` downsamples your input using a window of size (f, f) and strides of size (s, s) to carry out max pooling over each window.  For max pooling, you usually operate on a single example at a time and a single channel at a time. Read the full documentation on [MaxPool2D](https://www.tensorflow.org/api_docs/python/tf/keras/layers/MaxPool2D).\n",
    "\n",
    "- **tf.keras.layers.ReLU():** computes the elementwise ReLU of Z (which can be any shape). You can read the full documentation on [ReLU](https://www.tensorflow.org/api_docs/python/tf/keras/layers/ReLU).\n",
    "\n",
    "- **tf.keras.layers.Flatten()**: given a tensor \"P\", this function takes each training (or test) example in the batch and flattens it into a 1D vector.  \n",
    "\n",
    "    * If a tensor P has the shape (batch_size,h,w,c), it returns a flattened tensor with shape (batch_size, k), where $k=h \\times w \\times c$.  \"k\" equals the product of all the dimension sizes other than the first dimension.\n",
    "    \n",
    "    * For example, given a tensor with dimensions [100, 2, 3, 4], it flattens the tensor to be of shape [100, 24], where 24 = 2 * 3 * 4.  You can read the full documentation on [Flatten](https://www.tensorflow.org/api_docs/python/tf/keras/layers/Flatten).\n",
    "\n",
    "- **tf.keras.layers.Dense(units= ... , activation='softmax')(F):** given the flattened input F, it returns the output computed using a fully connected layer. You can read the full documentation on [Dense](https://www.tensorflow.org/api_docs/python/tf/keras/layers/Dense).\n",
    "\n",
    "In the last function above (`tf.keras.layers.Dense()`), the fully connected layer automatically initializes weights in the graph and keeps on training them as you train the model. Hence, you did not need to initialize those weights when initializing the parameters.\n",
    "\n",
    "Lastly, before creating the model, you'll need to define the output using the last of the function's compositions (in this example, a Dense layer): \n",
    "\n",
    "- **outputs = tf.keras.layers.Dense(units=6, activation='softmax')(F)**\n",
    "\n",
    "\n",
    "#### Window, kernel, filter, pool\n",
    "\n",
    "The words \"kernel\" and \"filter\" are used to refer to the same thing. The word \"filter\" accounts for the amount of \"kernels\" that will be used in a single convolution layer. \"Pool\" is the name of the operation that takes the max or average value of the kernels. \n",
    "\n",
    "This is why the parameter `pool_size` refers to `kernel_size`, and you use `(f,f)` to refer to the filter size. \n",
    "\n",
    "Pool size and kernel size refer to the same thing in different objects - They refer to the shape of the window where the operation takes place. "
   ]
  },
  {
   "cell_type": "markdown",
   "metadata": {},
   "source": [
    "<a name='ex-2'></a>\n",
    "### Exercise 2 - convolutional_model\n",
    "\n",
    "Implement the `convolutional_model` function below to build the following model: `CONV2D -> RELU -> MAXPOOL -> CONV2D -> RELU -> MAXPOOL -> FLATTEN -> DENSE`. Use the functions above! \n",
    "\n",
    "Also, plug in the following parameters for all the steps:\n",
    "\n",
    " - [Conv2D](https://www.tensorflow.org/api_docs/python/tf/keras/layers/Conv2D): Use 8 4 by 4 filters, stride 1, padding is \"SAME\"\n",
    " - [ReLU](https://www.tensorflow.org/api_docs/python/tf/keras/layers/ReLU)\n",
    " - [MaxPool2D](https://www.tensorflow.org/api_docs/python/tf/keras/layers/MaxPool2D): Use an 8 by 8 filter size and an 8 by 8 stride, padding is \"SAME\"\n",
    " - **Conv2D**: Use 16 2 by 2 filters, stride 1, padding is \"SAME\"\n",
    " - **ReLU**\n",
    " - **MaxPool2D**: Use a 4 by 4 filter size and a 4 by 4 stride, padding is \"SAME\"\n",
    " - [Flatten](https://www.tensorflow.org/api_docs/python/tf/keras/layers/Flatten) the previous output.\n",
    " - Fully-connected ([Dense](https://www.tensorflow.org/api_docs/python/tf/keras/layers/Dense)) layer: Apply a fully connected layer with 6 neurons and a softmax activation. "
   ]
  },
  {
   "cell_type": "code",
   "execution_count": 32,
   "metadata": {
    "deletable": false,
    "nbgrader": {
     "cell_type": "code",
     "checksum": "f58643806aa8380c96225fc8b4c5e7aa",
     "grade": false,
     "grade_id": "cell-dac51744a9e03f51",
     "locked": false,
     "schema_version": 3,
     "solution": true,
     "task": false
    }
   },
   "outputs": [],
   "source": [
    "# GRADED FUNCTION: convolutional_model\n",
    "\n",
    "def convolutional_model(input_shape):\n",
    "    \"\"\"\n",
    "    Implements the forward propagation for the model:\n",
    "    CONV2D -> RELU -> MAXPOOL -> CONV2D -> RELU -> MAXPOOL -> FLATTEN -> DENSE\n",
    "    \n",
    "    Note that for simplicity and grading purposes, you'll hard-code some values\n",
    "    such as the stride and kernel (filter) sizes. \n",
    "    Normally, functions should take these values as function parameters.\n",
    "    \n",
    "    Arguments:\n",
    "    input_img -- input dataset, of shape (input_shape)\n",
    "\n",
    "    Returns:\n",
    "    model -- TF Keras model (object containing the information for the entire training process) \n",
    "    \"\"\"\n",
    "\n",
    "    input_img = tf.keras.Input(shape=input_shape)\n",
    "    ## CONV2D: 8 filters 4x4, stride of 1, padding 'SAME'\n",
    "    # Z1 = None\n",
    "    ## RELU\n",
    "    # A1 = None\n",
    "    ## MAXPOOL: window 8x8, stride 8, padding 'SAME'\n",
    "    # P1 = None\n",
    "    ## CONV2D: 16 filters 2x2, stride 1, padding 'SAME'\n",
    "    # Z2 = None\n",
    "    ## RELU\n",
    "    # A2 = None\n",
    "    ## MAXPOOL: window 4x4, stride 4, padding 'SAME'\n",
    "    # P2 = None\n",
    "    ## FLATTEN\n",
    "    # F = None\n",
    "    ## Dense layer\n",
    "    ## 6 neurons in output layer. Hint: one of the arguments should be \"activation='softmax'\" \n",
    "    # outputs = None\n",
    "    # YOUR CODE STARTS HERE\n",
    "    Z1 = tfl.Conv2D(8, 4, strides = 1, padding = 'same')(input_img)\n",
    "    A1 = tfl.ReLU()(Z1)\n",
    "    P1 = tfl.MaxPool2D(pool_size = 8, strides = 8, padding = 'same')(A1)\n",
    "    Z2 = tfl.Conv2D(16, 2, strides = 1, padding = 'same')(P1)\n",
    "    A2 = tfl.ReLU()(Z2)\n",
    "    P2 = tfl.MaxPool2D(pool_size = 4, strides = 4, padding = 'same')(A2)\n",
    "    F = tfl.Flatten()(P2)\n",
    "    outputs = tfl.Dense(units = 6, activation = 'softmax')(F)\n",
    "    \n",
    "    # YOUR CODE ENDS HERE\n",
    "    model = tf.keras.Model(inputs=input_img, outputs=outputs)\n",
    "    return model"
   ]
  },
  {
   "cell_type": "code",
   "execution_count": 33,
   "metadata": {
    "deletable": false,
    "editable": false,
    "nbgrader": {
     "cell_type": "code",
     "checksum": "483d626949930a0b0ef20997e7c6ba72",
     "grade": true,
     "grade_id": "cell-45d22e92042174c9",
     "locked": true,
     "points": 10,
     "schema_version": 3,
     "solution": false,
     "task": false
    }
   },
   "outputs": [
    {
     "name": "stdout",
     "output_type": "stream",
     "text": [
      "Model: \"functional_3\"\n",
      "_________________________________________________________________\n",
      "Layer (type)                 Output Shape              Param #   \n",
      "=================================================================\n",
      "input_6 (InputLayer)         [(None, 64, 64, 3)]       0         \n",
      "_________________________________________________________________\n",
      "conv2d_14 (Conv2D)           (None, 64, 64, 8)         392       \n",
      "_________________________________________________________________\n",
      "re_lu_13 (ReLU)              (None, 64, 64, 8)         0         \n",
      "_________________________________________________________________\n",
      "max_pooling2d_12 (MaxPooling (None, 8, 8, 8)           0         \n",
      "_________________________________________________________________\n",
      "conv2d_15 (Conv2D)           (None, 8, 8, 16)          528       \n",
      "_________________________________________________________________\n",
      "re_lu_14 (ReLU)              (None, 8, 8, 16)          0         \n",
      "_________________________________________________________________\n",
      "max_pooling2d_13 (MaxPooling (None, 2, 2, 16)          0         \n",
      "_________________________________________________________________\n",
      "flatten_7 (Flatten)          (None, 64)                0         \n",
      "_________________________________________________________________\n",
      "dense_5 (Dense)              (None, 6)                 390       \n",
      "=================================================================\n",
      "Total params: 1,310\n",
      "Trainable params: 1,310\n",
      "Non-trainable params: 0\n",
      "_________________________________________________________________\n",
      "\u001b[32mAll tests passed!\u001b[0m\n"
     ]
    }
   ],
   "source": [
    "conv_model = convolutional_model((64, 64, 3))\n",
    "conv_model.compile(optimizer='adam',\n",
    "                  loss='categorical_crossentropy',\n",
    "                  metrics=['accuracy'])\n",
    "conv_model.summary()\n",
    "    \n",
    "output = [['InputLayer', [(None, 64, 64, 3)], 0],\n",
    "        ['Conv2D', (None, 64, 64, 8), 392, 'same', 'linear', 'GlorotUniform'],\n",
    "        ['ReLU', (None, 64, 64, 8), 0],\n",
    "        ['MaxPooling2D', (None, 8, 8, 8), 0, (8, 8), (8, 8), 'same'],\n",
    "        ['Conv2D', (None, 8, 8, 16), 528, 'same', 'linear', 'GlorotUniform'],\n",
    "        ['ReLU', (None, 8, 8, 16), 0],\n",
    "        ['MaxPooling2D', (None, 2, 2, 16), 0, (4, 4), (4, 4), 'same'],\n",
    "        ['Flatten', (None, 64), 0],\n",
    "        ['Dense', (None, 6), 390, 'softmax']]\n",
    "    \n",
    "comparator(summary(conv_model), output)"
   ]
  },
  {
   "cell_type": "markdown",
   "metadata": {},
   "source": [
    "Both the Sequential and Functional APIs return a TF Keras model object. The only difference is how inputs are handled inside the object model! "
   ]
  },
  {
   "cell_type": "markdown",
   "metadata": {},
   "source": [
    "<a name='4-4'></a>\n",
    "### 4.4 - Train the Model"
   ]
  },
  {
   "cell_type": "code",
   "execution_count": 34,
   "metadata": {},
   "outputs": [
    {
     "name": "stdout",
     "output_type": "stream",
     "text": [
      "Epoch 1/100\n",
      "17/17 [==============================] - 2s 112ms/step - loss: 1.7955 - accuracy: 0.1731 - val_loss: 1.7870 - val_accuracy: 0.1917\n",
      "Epoch 2/100\n",
      "17/17 [==============================] - 2s 106ms/step - loss: 1.7813 - accuracy: 0.2417 - val_loss: 1.7788 - val_accuracy: 0.2333\n",
      "Epoch 3/100\n",
      "17/17 [==============================] - 2s 107ms/step - loss: 1.7704 - accuracy: 0.2769 - val_loss: 1.7689 - val_accuracy: 0.2583\n",
      "Epoch 4/100\n",
      "17/17 [==============================] - 2s 106ms/step - loss: 1.7553 - accuracy: 0.3565 - val_loss: 1.7555 - val_accuracy: 0.3583\n",
      "Epoch 5/100\n",
      "17/17 [==============================] - 2s 106ms/step - loss: 1.7363 - accuracy: 0.3917 - val_loss: 1.7374 - val_accuracy: 0.3833\n",
      "Epoch 6/100\n",
      "17/17 [==============================] - 2s 112ms/step - loss: 1.7137 - accuracy: 0.4278 - val_loss: 1.7191 - val_accuracy: 0.4083\n",
      "Epoch 7/100\n",
      "17/17 [==============================] - 2s 107ms/step - loss: 1.6889 - accuracy: 0.4435 - val_loss: 1.6967 - val_accuracy: 0.4083\n",
      "Epoch 8/100\n",
      "17/17 [==============================] - 2s 106ms/step - loss: 1.6574 - accuracy: 0.4556 - val_loss: 1.6691 - val_accuracy: 0.4333\n",
      "Epoch 9/100\n",
      "17/17 [==============================] - 2s 112ms/step - loss: 1.6203 - accuracy: 0.4648 - val_loss: 1.6357 - val_accuracy: 0.4750\n",
      "Epoch 10/100\n",
      "17/17 [==============================] - 2s 112ms/step - loss: 1.5777 - accuracy: 0.4741 - val_loss: 1.5982 - val_accuracy: 0.4500\n",
      "Epoch 11/100\n",
      "17/17 [==============================] - 2s 106ms/step - loss: 1.5305 - accuracy: 0.4861 - val_loss: 1.5587 - val_accuracy: 0.4333\n",
      "Epoch 12/100\n",
      "17/17 [==============================] - 2s 106ms/step - loss: 1.4803 - accuracy: 0.5065 - val_loss: 1.5162 - val_accuracy: 0.4417\n",
      "Epoch 13/100\n",
      "17/17 [==============================] - 2s 111ms/step - loss: 1.4300 - accuracy: 0.5065 - val_loss: 1.4736 - val_accuracy: 0.4750\n",
      "Epoch 14/100\n",
      "17/17 [==============================] - 2s 112ms/step - loss: 1.3809 - accuracy: 0.5204 - val_loss: 1.4230 - val_accuracy: 0.5083\n",
      "Epoch 15/100\n",
      "17/17 [==============================] - 2s 112ms/step - loss: 1.3336 - accuracy: 0.5324 - val_loss: 1.3794 - val_accuracy: 0.5167\n",
      "Epoch 16/100\n",
      "17/17 [==============================] - 2s 112ms/step - loss: 1.2911 - accuracy: 0.5500 - val_loss: 1.3418 - val_accuracy: 0.5083\n",
      "Epoch 17/100\n",
      "17/17 [==============================] - 2s 107ms/step - loss: 1.2529 - accuracy: 0.5481 - val_loss: 1.2995 - val_accuracy: 0.5417\n",
      "Epoch 18/100\n",
      "17/17 [==============================] - 2s 107ms/step - loss: 1.2151 - accuracy: 0.5657 - val_loss: 1.2591 - val_accuracy: 0.5500\n",
      "Epoch 19/100\n",
      "17/17 [==============================] - 2s 112ms/step - loss: 1.1797 - accuracy: 0.5796 - val_loss: 1.2280 - val_accuracy: 0.5333\n",
      "Epoch 20/100\n",
      "17/17 [==============================] - 2s 107ms/step - loss: 1.1491 - accuracy: 0.5843 - val_loss: 1.1979 - val_accuracy: 0.5417\n",
      "Epoch 21/100\n",
      "17/17 [==============================] - 2s 106ms/step - loss: 1.1186 - accuracy: 0.5972 - val_loss: 1.1672 - val_accuracy: 0.5667\n",
      "Epoch 22/100\n",
      "17/17 [==============================] - 2s 106ms/step - loss: 1.0926 - accuracy: 0.6028 - val_loss: 1.1462 - val_accuracy: 0.5583\n",
      "Epoch 23/100\n",
      "17/17 [==============================] - 2s 111ms/step - loss: 1.0686 - accuracy: 0.6093 - val_loss: 1.1213 - val_accuracy: 0.5750\n",
      "Epoch 24/100\n",
      "17/17 [==============================] - 2s 111ms/step - loss: 1.0457 - accuracy: 0.6222 - val_loss: 1.1040 - val_accuracy: 0.5667\n",
      "Epoch 25/100\n",
      "17/17 [==============================] - 2s 111ms/step - loss: 1.0246 - accuracy: 0.6306 - val_loss: 1.0847 - val_accuracy: 0.6000\n",
      "Epoch 26/100\n",
      "17/17 [==============================] - 2s 111ms/step - loss: 1.0055 - accuracy: 0.6389 - val_loss: 1.0662 - val_accuracy: 0.5833\n",
      "Epoch 27/100\n",
      "17/17 [==============================] - 2s 111ms/step - loss: 0.9872 - accuracy: 0.6435 - val_loss: 1.0457 - val_accuracy: 0.6000\n",
      "Epoch 28/100\n",
      "17/17 [==============================] - 2s 106ms/step - loss: 0.9695 - accuracy: 0.6537 - val_loss: 1.0275 - val_accuracy: 0.6250\n",
      "Epoch 29/100\n",
      "17/17 [==============================] - 2s 106ms/step - loss: 0.9519 - accuracy: 0.6639 - val_loss: 1.0111 - val_accuracy: 0.6250\n",
      "Epoch 30/100\n",
      "17/17 [==============================] - 2s 107ms/step - loss: 0.9353 - accuracy: 0.6750 - val_loss: 0.9962 - val_accuracy: 0.6333\n",
      "Epoch 31/100\n",
      "17/17 [==============================] - 2s 106ms/step - loss: 0.9208 - accuracy: 0.6769 - val_loss: 0.9829 - val_accuracy: 0.6167\n",
      "Epoch 32/100\n",
      "17/17 [==============================] - 2s 112ms/step - loss: 0.9060 - accuracy: 0.6880 - val_loss: 0.9707 - val_accuracy: 0.6500\n",
      "Epoch 33/100\n",
      "17/17 [==============================] - 2s 106ms/step - loss: 0.8939 - accuracy: 0.6880 - val_loss: 0.9583 - val_accuracy: 0.6500\n",
      "Epoch 34/100\n",
      "17/17 [==============================] - 2s 106ms/step - loss: 0.8802 - accuracy: 0.6972 - val_loss: 0.9461 - val_accuracy: 0.6583\n",
      "Epoch 35/100\n",
      "17/17 [==============================] - 2s 107ms/step - loss: 0.8679 - accuracy: 0.7000 - val_loss: 0.9361 - val_accuracy: 0.6750\n",
      "Epoch 36/100\n",
      "17/17 [==============================] - 2s 107ms/step - loss: 0.8559 - accuracy: 0.7037 - val_loss: 0.9261 - val_accuracy: 0.6750\n",
      "Epoch 37/100\n",
      "17/17 [==============================] - 2s 112ms/step - loss: 0.8451 - accuracy: 0.7093 - val_loss: 0.9162 - val_accuracy: 0.7000\n",
      "Epoch 38/100\n",
      "17/17 [==============================] - 2s 111ms/step - loss: 0.8344 - accuracy: 0.7102 - val_loss: 0.9051 - val_accuracy: 0.7000\n",
      "Epoch 39/100\n",
      "17/17 [==============================] - 2s 107ms/step - loss: 0.8242 - accuracy: 0.7130 - val_loss: 0.8951 - val_accuracy: 0.6917\n",
      "Epoch 40/100\n",
      "17/17 [==============================] - 2s 106ms/step - loss: 0.8137 - accuracy: 0.7204 - val_loss: 0.8860 - val_accuracy: 0.7083\n",
      "Epoch 41/100\n",
      "17/17 [==============================] - 2s 106ms/step - loss: 0.8042 - accuracy: 0.7259 - val_loss: 0.8776 - val_accuracy: 0.7083\n",
      "Epoch 42/100\n",
      "17/17 [==============================] - 2s 106ms/step - loss: 0.7949 - accuracy: 0.7278 - val_loss: 0.8688 - val_accuracy: 0.7167\n",
      "Epoch 43/100\n",
      "17/17 [==============================] - 2s 111ms/step - loss: 0.7862 - accuracy: 0.7324 - val_loss: 0.8612 - val_accuracy: 0.7083\n",
      "Epoch 44/100\n",
      "17/17 [==============================] - 2s 111ms/step - loss: 0.7765 - accuracy: 0.7361 - val_loss: 0.8513 - val_accuracy: 0.7167\n",
      "Epoch 45/100\n",
      "17/17 [==============================] - 2s 111ms/step - loss: 0.7681 - accuracy: 0.7389 - val_loss: 0.8453 - val_accuracy: 0.7083\n",
      "Epoch 46/100\n",
      "17/17 [==============================] - 2s 111ms/step - loss: 0.7594 - accuracy: 0.7426 - val_loss: 0.8368 - val_accuracy: 0.7250\n",
      "Epoch 47/100\n",
      "17/17 [==============================] - 2s 112ms/step - loss: 0.7517 - accuracy: 0.7491 - val_loss: 0.8298 - val_accuracy: 0.7167\n",
      "Epoch 48/100\n",
      "17/17 [==============================] - 2s 112ms/step - loss: 0.7437 - accuracy: 0.7519 - val_loss: 0.8224 - val_accuracy: 0.7167\n",
      "Epoch 49/100\n",
      "17/17 [==============================] - 2s 112ms/step - loss: 0.7351 - accuracy: 0.7519 - val_loss: 0.8142 - val_accuracy: 0.7417\n",
      "Epoch 50/100\n",
      "17/17 [==============================] - 2s 112ms/step - loss: 0.7275 - accuracy: 0.7574 - val_loss: 0.8068 - val_accuracy: 0.7250\n",
      "Epoch 51/100\n",
      "17/17 [==============================] - 2s 112ms/step - loss: 0.7203 - accuracy: 0.7574 - val_loss: 0.7999 - val_accuracy: 0.7167\n",
      "Epoch 52/100\n",
      "17/17 [==============================] - 2s 107ms/step - loss: 0.7129 - accuracy: 0.7620 - val_loss: 0.7936 - val_accuracy: 0.7167\n",
      "Epoch 53/100\n",
      "17/17 [==============================] - 2s 107ms/step - loss: 0.7050 - accuracy: 0.7648 - val_loss: 0.7866 - val_accuracy: 0.7333\n",
      "Epoch 54/100\n",
      "17/17 [==============================] - 2s 112ms/step - loss: 0.6983 - accuracy: 0.7685 - val_loss: 0.7799 - val_accuracy: 0.7333\n",
      "Epoch 55/100\n",
      "17/17 [==============================] - 2s 112ms/step - loss: 0.6913 - accuracy: 0.7676 - val_loss: 0.7728 - val_accuracy: 0.7333\n",
      "Epoch 56/100\n",
      "17/17 [==============================] - 2s 106ms/step - loss: 0.6842 - accuracy: 0.7704 - val_loss: 0.7655 - val_accuracy: 0.7250\n",
      "Epoch 57/100\n",
      "17/17 [==============================] - 2s 113ms/step - loss: 0.6771 - accuracy: 0.7759 - val_loss: 0.7582 - val_accuracy: 0.7333\n"
     ]
    },
    {
     "name": "stdout",
     "output_type": "stream",
     "text": [
      "Epoch 58/100\n",
      "17/17 [==============================] - 2s 107ms/step - loss: 0.6706 - accuracy: 0.7769 - val_loss: 0.7506 - val_accuracy: 0.7333\n",
      "Epoch 59/100\n",
      "17/17 [==============================] - 2s 112ms/step - loss: 0.6642 - accuracy: 0.7833 - val_loss: 0.7432 - val_accuracy: 0.7417\n",
      "Epoch 60/100\n",
      "17/17 [==============================] - 2s 111ms/step - loss: 0.6562 - accuracy: 0.7852 - val_loss: 0.7363 - val_accuracy: 0.7417\n",
      "Epoch 61/100\n",
      "17/17 [==============================] - 2s 111ms/step - loss: 0.6498 - accuracy: 0.7898 - val_loss: 0.7294 - val_accuracy: 0.7417\n",
      "Epoch 62/100\n",
      "17/17 [==============================] - 2s 112ms/step - loss: 0.6431 - accuracy: 0.7898 - val_loss: 0.7228 - val_accuracy: 0.7417\n",
      "Epoch 63/100\n",
      "17/17 [==============================] - 2s 111ms/step - loss: 0.6373 - accuracy: 0.7898 - val_loss: 0.7167 - val_accuracy: 0.7417\n",
      "Epoch 64/100\n",
      "17/17 [==============================] - 2s 111ms/step - loss: 0.6308 - accuracy: 0.7926 - val_loss: 0.7099 - val_accuracy: 0.7417\n",
      "Epoch 65/100\n",
      "17/17 [==============================] - 2s 111ms/step - loss: 0.6250 - accuracy: 0.7917 - val_loss: 0.7034 - val_accuracy: 0.7500\n",
      "Epoch 66/100\n",
      "17/17 [==============================] - 2s 112ms/step - loss: 0.6184 - accuracy: 0.7944 - val_loss: 0.6973 - val_accuracy: 0.7500\n",
      "Epoch 67/100\n",
      "17/17 [==============================] - 2s 107ms/step - loss: 0.6124 - accuracy: 0.7963 - val_loss: 0.6909 - val_accuracy: 0.7500\n",
      "Epoch 68/100\n",
      "17/17 [==============================] - 2s 106ms/step - loss: 0.6067 - accuracy: 0.7981 - val_loss: 0.6853 - val_accuracy: 0.7500\n",
      "Epoch 69/100\n",
      "17/17 [==============================] - 2s 112ms/step - loss: 0.6010 - accuracy: 0.8009 - val_loss: 0.6799 - val_accuracy: 0.7500\n",
      "Epoch 70/100\n",
      "17/17 [==============================] - 2s 112ms/step - loss: 0.5956 - accuracy: 0.8046 - val_loss: 0.6747 - val_accuracy: 0.7500\n",
      "Epoch 71/100\n",
      "17/17 [==============================] - 2s 107ms/step - loss: 0.5894 - accuracy: 0.8065 - val_loss: 0.6687 - val_accuracy: 0.7500\n",
      "Epoch 72/100\n",
      "17/17 [==============================] - 2s 112ms/step - loss: 0.5841 - accuracy: 0.8102 - val_loss: 0.6619 - val_accuracy: 0.7583\n",
      "Epoch 73/100\n",
      "17/17 [==============================] - 2s 112ms/step - loss: 0.5783 - accuracy: 0.8120 - val_loss: 0.6572 - val_accuracy: 0.7500\n",
      "Epoch 74/100\n",
      "17/17 [==============================] - 2s 107ms/step - loss: 0.5727 - accuracy: 0.8130 - val_loss: 0.6524 - val_accuracy: 0.7583\n",
      "Epoch 75/100\n",
      "17/17 [==============================] - 2s 106ms/step - loss: 0.5674 - accuracy: 0.8120 - val_loss: 0.6463 - val_accuracy: 0.7583\n",
      "Epoch 76/100\n",
      "17/17 [==============================] - 2s 112ms/step - loss: 0.5620 - accuracy: 0.8157 - val_loss: 0.6414 - val_accuracy: 0.7583\n",
      "Epoch 77/100\n",
      "17/17 [==============================] - 2s 107ms/step - loss: 0.5565 - accuracy: 0.8157 - val_loss: 0.6367 - val_accuracy: 0.7583\n",
      "Epoch 78/100\n",
      "17/17 [==============================] - 2s 112ms/step - loss: 0.5510 - accuracy: 0.8176 - val_loss: 0.6317 - val_accuracy: 0.7583\n",
      "Epoch 79/100\n",
      "17/17 [==============================] - 2s 111ms/step - loss: 0.5460 - accuracy: 0.8222 - val_loss: 0.6269 - val_accuracy: 0.7583\n",
      "Epoch 80/100\n",
      "17/17 [==============================] - 2s 112ms/step - loss: 0.5406 - accuracy: 0.8250 - val_loss: 0.6223 - val_accuracy: 0.7583\n",
      "Epoch 81/100\n",
      "17/17 [==============================] - 2s 111ms/step - loss: 0.5358 - accuracy: 0.8250 - val_loss: 0.6175 - val_accuracy: 0.7583\n",
      "Epoch 82/100\n",
      "17/17 [==============================] - 2s 111ms/step - loss: 0.5307 - accuracy: 0.8315 - val_loss: 0.6136 - val_accuracy: 0.7583\n",
      "Epoch 83/100\n",
      "17/17 [==============================] - 2s 111ms/step - loss: 0.5260 - accuracy: 0.8315 - val_loss: 0.6100 - val_accuracy: 0.7667\n",
      "Epoch 84/100\n",
      "17/17 [==============================] - 2s 111ms/step - loss: 0.5215 - accuracy: 0.8324 - val_loss: 0.6056 - val_accuracy: 0.7667\n",
      "Epoch 85/100\n",
      "17/17 [==============================] - 2s 112ms/step - loss: 0.5168 - accuracy: 0.8324 - val_loss: 0.6019 - val_accuracy: 0.7667\n",
      "Epoch 86/100\n",
      "17/17 [==============================] - 2s 107ms/step - loss: 0.5120 - accuracy: 0.8324 - val_loss: 0.5981 - val_accuracy: 0.7667\n",
      "Epoch 87/100\n",
      "17/17 [==============================] - 2s 111ms/step - loss: 0.5074 - accuracy: 0.8324 - val_loss: 0.5944 - val_accuracy: 0.7667\n",
      "Epoch 88/100\n",
      "17/17 [==============================] - 2s 107ms/step - loss: 0.5024 - accuracy: 0.8343 - val_loss: 0.5900 - val_accuracy: 0.7750\n",
      "Epoch 89/100\n",
      "17/17 [==============================] - 2s 112ms/step - loss: 0.4978 - accuracy: 0.8361 - val_loss: 0.5869 - val_accuracy: 0.7750\n",
      "Epoch 90/100\n",
      "17/17 [==============================] - 2s 111ms/step - loss: 0.4932 - accuracy: 0.8389 - val_loss: 0.5827 - val_accuracy: 0.7750\n",
      "Epoch 91/100\n",
      "17/17 [==============================] - 2s 112ms/step - loss: 0.4887 - accuracy: 0.8389 - val_loss: 0.5799 - val_accuracy: 0.7750\n",
      "Epoch 92/100\n",
      "17/17 [==============================] - 2s 107ms/step - loss: 0.4841 - accuracy: 0.8426 - val_loss: 0.5764 - val_accuracy: 0.7833\n",
      "Epoch 93/100\n",
      "17/17 [==============================] - 2s 106ms/step - loss: 0.4802 - accuracy: 0.8426 - val_loss: 0.5727 - val_accuracy: 0.7750\n",
      "Epoch 94/100\n",
      "17/17 [==============================] - 2s 107ms/step - loss: 0.4754 - accuracy: 0.8444 - val_loss: 0.5676 - val_accuracy: 0.7917\n",
      "Epoch 95/100\n",
      "17/17 [==============================] - 2s 107ms/step - loss: 0.4706 - accuracy: 0.8444 - val_loss: 0.5649 - val_accuracy: 0.7750\n",
      "Epoch 96/100\n",
      "17/17 [==============================] - 2s 107ms/step - loss: 0.4668 - accuracy: 0.8454 - val_loss: 0.5616 - val_accuracy: 0.7917\n",
      "Epoch 97/100\n",
      "17/17 [==============================] - 2s 107ms/step - loss: 0.4626 - accuracy: 0.8491 - val_loss: 0.5581 - val_accuracy: 0.7917\n",
      "Epoch 98/100\n",
      "17/17 [==============================] - 2s 107ms/step - loss: 0.4584 - accuracy: 0.8491 - val_loss: 0.5546 - val_accuracy: 0.7917\n",
      "Epoch 99/100\n",
      "17/17 [==============================] - 2s 112ms/step - loss: 0.4540 - accuracy: 0.8519 - val_loss: 0.5515 - val_accuracy: 0.8000\n",
      "Epoch 100/100\n",
      "17/17 [==============================] - 2s 111ms/step - loss: 0.4498 - accuracy: 0.8528 - val_loss: 0.5470 - val_accuracy: 0.7917\n"
     ]
    }
   ],
   "source": [
    "train_dataset = tf.data.Dataset.from_tensor_slices((X_train, Y_train)).batch(64)\n",
    "test_dataset = tf.data.Dataset.from_tensor_slices((X_test, Y_test)).batch(64)\n",
    "history = conv_model.fit(train_dataset, epochs=100, validation_data=test_dataset)"
   ]
  },
  {
   "cell_type": "markdown",
   "metadata": {},
   "source": [
    "<a name='5'></a>\n",
    "## 5 - History Object \n",
    "\n",
    "The history object is an output of the `.fit()` operation, and provides a record of all the loss and metric values in memory. It's stored as a dictionary that you can retrieve at `history.history`: "
   ]
  },
  {
   "cell_type": "code",
   "execution_count": 35,
   "metadata": {},
   "outputs": [
    {
     "data": {
      "text/plain": [
       "{'loss': [1.795512080192566,\n",
       "  1.7813177108764648,\n",
       "  1.7703806161880493,\n",
       "  1.7553149461746216,\n",
       "  1.7362580299377441,\n",
       "  1.71371591091156,\n",
       "  1.6888768672943115,\n",
       "  1.6574270725250244,\n",
       "  1.6203467845916748,\n",
       "  1.5776615142822266,\n",
       "  1.5305100679397583,\n",
       "  1.4802625179290771,\n",
       "  1.4300193786621094,\n",
       "  1.3809256553649902,\n",
       "  1.3336365222930908,\n",
       "  1.2911087274551392,\n",
       "  1.2529199123382568,\n",
       "  1.2151434421539307,\n",
       "  1.179730772972107,\n",
       "  1.1491361856460571,\n",
       "  1.1186460256576538,\n",
       "  1.0926423072814941,\n",
       "  1.0685797929763794,\n",
       "  1.0456557273864746,\n",
       "  1.0246042013168335,\n",
       "  1.0055091381072998,\n",
       "  0.9871717691421509,\n",
       "  0.969495415687561,\n",
       "  0.9518666863441467,\n",
       "  0.9352880120277405,\n",
       "  0.9207862615585327,\n",
       "  0.9059821963310242,\n",
       "  0.8939135074615479,\n",
       "  0.8802280426025391,\n",
       "  0.867942750453949,\n",
       "  0.8558770418167114,\n",
       "  0.8451231122016907,\n",
       "  0.8344399929046631,\n",
       "  0.8241672515869141,\n",
       "  0.813690185546875,\n",
       "  0.8041539788246155,\n",
       "  0.794860303401947,\n",
       "  0.7862035632133484,\n",
       "  0.776468813419342,\n",
       "  0.7680546045303345,\n",
       "  0.7593960165977478,\n",
       "  0.7516909837722778,\n",
       "  0.7436899542808533,\n",
       "  0.7351059317588806,\n",
       "  0.727471113204956,\n",
       "  0.7203028798103333,\n",
       "  0.7128787636756897,\n",
       "  0.7049852609634399,\n",
       "  0.6983489394187927,\n",
       "  0.6912800073623657,\n",
       "  0.6842441558837891,\n",
       "  0.6771494150161743,\n",
       "  0.6705636978149414,\n",
       "  0.6641636490821838,\n",
       "  0.6561771035194397,\n",
       "  0.6498085856437683,\n",
       "  0.6431474685668945,\n",
       "  0.6372594833374023,\n",
       "  0.630804181098938,\n",
       "  0.6249688863754272,\n",
       "  0.6183620095252991,\n",
       "  0.6124483346939087,\n",
       "  0.6067006587982178,\n",
       "  0.6010027527809143,\n",
       "  0.5956117510795593,\n",
       "  0.5894014835357666,\n",
       "  0.5840553641319275,\n",
       "  0.5783467888832092,\n",
       "  0.5726751089096069,\n",
       "  0.5673669576644897,\n",
       "  0.5619987845420837,\n",
       "  0.5564646124839783,\n",
       "  0.5509661436080933,\n",
       "  0.5459986329078674,\n",
       "  0.5406427979469299,\n",
       "  0.5357522368431091,\n",
       "  0.5306931734085083,\n",
       "  0.525978684425354,\n",
       "  0.5215415358543396,\n",
       "  0.5167799592018127,\n",
       "  0.5119984745979309,\n",
       "  0.507371187210083,\n",
       "  0.502433717250824,\n",
       "  0.49779364466667175,\n",
       "  0.49318671226501465,\n",
       "  0.4886864423751831,\n",
       "  0.4840538203716278,\n",
       "  0.48017415404319763,\n",
       "  0.47543972730636597,\n",
       "  0.47058936953544617,\n",
       "  0.46678847074508667,\n",
       "  0.46263399720191956,\n",
       "  0.45836198329925537,\n",
       "  0.45395106077194214,\n",
       "  0.44980499148368835],\n",
       " 'accuracy': [0.17314815521240234,\n",
       "  0.24166665971279144,\n",
       "  0.2768518626689911,\n",
       "  0.35648149251937866,\n",
       "  0.3916666805744171,\n",
       "  0.4277777671813965,\n",
       "  0.4435185194015503,\n",
       "  0.4555555582046509,\n",
       "  0.46481481194496155,\n",
       "  0.4740740656852722,\n",
       "  0.4861111044883728,\n",
       "  0.5064814686775208,\n",
       "  0.5064814686775208,\n",
       "  0.520370364189148,\n",
       "  0.5324074029922485,\n",
       "  0.550000011920929,\n",
       "  0.5481481552124023,\n",
       "  0.5657407641410828,\n",
       "  0.5796296000480652,\n",
       "  0.5842592716217041,\n",
       "  0.5972222089767456,\n",
       "  0.6027777791023254,\n",
       "  0.6092592477798462,\n",
       "  0.6222222447395325,\n",
       "  0.6305555701255798,\n",
       "  0.6388888955116272,\n",
       "  0.6435185074806213,\n",
       "  0.6537036895751953,\n",
       "  0.6638888716697693,\n",
       "  0.675000011920929,\n",
       "  0.6768518686294556,\n",
       "  0.6879629492759705,\n",
       "  0.6879629492759705,\n",
       "  0.6972222328186035,\n",
       "  0.699999988079071,\n",
       "  0.7037037014961243,\n",
       "  0.7092592716217041,\n",
       "  0.710185170173645,\n",
       "  0.7129629850387573,\n",
       "  0.720370352268219,\n",
       "  0.7259259223937988,\n",
       "  0.7277777791023254,\n",
       "  0.7324073910713196,\n",
       "  0.7361111044883728,\n",
       "  0.7388888597488403,\n",
       "  0.7425925731658936,\n",
       "  0.7490741014480591,\n",
       "  0.7518518567085266,\n",
       "  0.7518518567085266,\n",
       "  0.7574074268341064,\n",
       "  0.7574074268341064,\n",
       "  0.7620370388031006,\n",
       "  0.7648147940635681,\n",
       "  0.7685185074806213,\n",
       "  0.7675926089286804,\n",
       "  0.770370364189148,\n",
       "  0.7759259343147278,\n",
       "  0.7768518328666687,\n",
       "  0.7833333611488342,\n",
       "  0.7851851582527161,\n",
       "  0.789814829826355,\n",
       "  0.789814829826355,\n",
       "  0.789814829826355,\n",
       "  0.7925925850868225,\n",
       "  0.7916666865348816,\n",
       "  0.7944444417953491,\n",
       "  0.7962962985038757,\n",
       "  0.7981481552124023,\n",
       "  0.8009259104728699,\n",
       "  0.8046296238899231,\n",
       "  0.8064814805984497,\n",
       "  0.8101851940155029,\n",
       "  0.8120370507240295,\n",
       "  0.8129629492759705,\n",
       "  0.8120370507240295,\n",
       "  0.8157407641410828,\n",
       "  0.8157407641410828,\n",
       "  0.8175926208496094,\n",
       "  0.8222222328186035,\n",
       "  0.824999988079071,\n",
       "  0.824999988079071,\n",
       "  0.8314814567565918,\n",
       "  0.8314814567565918,\n",
       "  0.8324074149131775,\n",
       "  0.8324074149131775,\n",
       "  0.8324074149131775,\n",
       "  0.8324074149131775,\n",
       "  0.8342592716217041,\n",
       "  0.8361111283302307,\n",
       "  0.8388888835906982,\n",
       "  0.8388888835906982,\n",
       "  0.8425925970077515,\n",
       "  0.8425925970077515,\n",
       "  0.8444444537162781,\n",
       "  0.8444444537162781,\n",
       "  0.845370352268219,\n",
       "  0.8490740656852722,\n",
       "  0.8490740656852722,\n",
       "  0.8518518805503845,\n",
       "  0.8527777791023254],\n",
       " 'val_loss': [1.787004828453064,\n",
       "  1.7788341045379639,\n",
       "  1.768906831741333,\n",
       "  1.7555488348007202,\n",
       "  1.7373731136322021,\n",
       "  1.719128131866455,\n",
       "  1.6966608762741089,\n",
       "  1.6690853834152222,\n",
       "  1.6356898546218872,\n",
       "  1.5981500148773193,\n",
       "  1.5586572885513306,\n",
       "  1.5161857604980469,\n",
       "  1.4736181497573853,\n",
       "  1.4230406284332275,\n",
       "  1.3794097900390625,\n",
       "  1.3417621850967407,\n",
       "  1.2994613647460938,\n",
       "  1.259098768234253,\n",
       "  1.2279605865478516,\n",
       "  1.197866678237915,\n",
       "  1.167178988456726,\n",
       "  1.1462053060531616,\n",
       "  1.121255874633789,\n",
       "  1.1040281057357788,\n",
       "  1.0846827030181885,\n",
       "  1.0661555528640747,\n",
       "  1.0456719398498535,\n",
       "  1.0275369882583618,\n",
       "  1.0111366510391235,\n",
       "  0.9961992502212524,\n",
       "  0.9829332828521729,\n",
       "  0.9707247018814087,\n",
       "  0.9583013653755188,\n",
       "  0.9461439847946167,\n",
       "  0.9361270070075989,\n",
       "  0.9260815978050232,\n",
       "  0.9161919951438904,\n",
       "  0.9050943851470947,\n",
       "  0.89509516954422,\n",
       "  0.8860328197479248,\n",
       "  0.8776033520698547,\n",
       "  0.8687604069709778,\n",
       "  0.8612388372421265,\n",
       "  0.8513057231903076,\n",
       "  0.8452581763267517,\n",
       "  0.8368113040924072,\n",
       "  0.8297535181045532,\n",
       "  0.822432279586792,\n",
       "  0.8142054080963135,\n",
       "  0.8068038821220398,\n",
       "  0.7999004125595093,\n",
       "  0.7935850620269775,\n",
       "  0.7865630984306335,\n",
       "  0.7799046039581299,\n",
       "  0.7727594971656799,\n",
       "  0.7654842138290405,\n",
       "  0.7582172751426697,\n",
       "  0.7505503296852112,\n",
       "  0.7432483434677124,\n",
       "  0.7362907528877258,\n",
       "  0.7294219732284546,\n",
       "  0.7227593064308167,\n",
       "  0.7167003154754639,\n",
       "  0.7099336981773376,\n",
       "  0.7033824920654297,\n",
       "  0.6972732543945312,\n",
       "  0.6909348964691162,\n",
       "  0.6852527260780334,\n",
       "  0.6799067854881287,\n",
       "  0.6746992468833923,\n",
       "  0.6687475442886353,\n",
       "  0.6618513464927673,\n",
       "  0.6572405695915222,\n",
       "  0.65241938829422,\n",
       "  0.6462609767913818,\n",
       "  0.6413630247116089,\n",
       "  0.6366758942604065,\n",
       "  0.6317495703697205,\n",
       "  0.6268659234046936,\n",
       "  0.6223017573356628,\n",
       "  0.6174689531326294,\n",
       "  0.6135598421096802,\n",
       "  0.6100341081619263,\n",
       "  0.6055940389633179,\n",
       "  0.6018858551979065,\n",
       "  0.5981423258781433,\n",
       "  0.5943742990493774,\n",
       "  0.5899993777275085,\n",
       "  0.5869196057319641,\n",
       "  0.5826762914657593,\n",
       "  0.5798904895782471,\n",
       "  0.5764196515083313,\n",
       "  0.5727370977401733,\n",
       "  0.5675936937332153,\n",
       "  0.5649346709251404,\n",
       "  0.5615931153297424,\n",
       "  0.5580517649650574,\n",
       "  0.554576575756073,\n",
       "  0.5514980554580688,\n",
       "  0.5470186471939087],\n",
       " 'val_accuracy': [0.19166666269302368,\n",
       "  0.23333333432674408,\n",
       "  0.25833332538604736,\n",
       "  0.3583333194255829,\n",
       "  0.38333332538604736,\n",
       "  0.40833333134651184,\n",
       "  0.40833333134651184,\n",
       "  0.4333333373069763,\n",
       "  0.4749999940395355,\n",
       "  0.44999998807907104,\n",
       "  0.4333333373069763,\n",
       "  0.4416666626930237,\n",
       "  0.4749999940395355,\n",
       "  0.5083333253860474,\n",
       "  0.5166666507720947,\n",
       "  0.5083333253860474,\n",
       "  0.5416666865348816,\n",
       "  0.550000011920929,\n",
       "  0.5333333611488342,\n",
       "  0.5416666865348816,\n",
       "  0.5666666626930237,\n",
       "  0.5583333373069763,\n",
       "  0.574999988079071,\n",
       "  0.5666666626930237,\n",
       "  0.6000000238418579,\n",
       "  0.5833333134651184,\n",
       "  0.6000000238418579,\n",
       "  0.625,\n",
       "  0.625,\n",
       "  0.6333333253860474,\n",
       "  0.6166666746139526,\n",
       "  0.6499999761581421,\n",
       "  0.6499999761581421,\n",
       "  0.6583333611488342,\n",
       "  0.675000011920929,\n",
       "  0.675000011920929,\n",
       "  0.699999988079071,\n",
       "  0.699999988079071,\n",
       "  0.6916666626930237,\n",
       "  0.7083333134651184,\n",
       "  0.7083333134651184,\n",
       "  0.7166666388511658,\n",
       "  0.7083333134651184,\n",
       "  0.7166666388511658,\n",
       "  0.7083333134651184,\n",
       "  0.7250000238418579,\n",
       "  0.7166666388511658,\n",
       "  0.7166666388511658,\n",
       "  0.7416666746139526,\n",
       "  0.7250000238418579,\n",
       "  0.7166666388511658,\n",
       "  0.7166666388511658,\n",
       "  0.7333333492279053,\n",
       "  0.7333333492279053,\n",
       "  0.7333333492279053,\n",
       "  0.7250000238418579,\n",
       "  0.7333333492279053,\n",
       "  0.7333333492279053,\n",
       "  0.7416666746139526,\n",
       "  0.7416666746139526,\n",
       "  0.7416666746139526,\n",
       "  0.7416666746139526,\n",
       "  0.7416666746139526,\n",
       "  0.7416666746139526,\n",
       "  0.75,\n",
       "  0.75,\n",
       "  0.75,\n",
       "  0.75,\n",
       "  0.75,\n",
       "  0.75,\n",
       "  0.75,\n",
       "  0.7583333253860474,\n",
       "  0.75,\n",
       "  0.7583333253860474,\n",
       "  0.7583333253860474,\n",
       "  0.7583333253860474,\n",
       "  0.7583333253860474,\n",
       "  0.7583333253860474,\n",
       "  0.7583333253860474,\n",
       "  0.7583333253860474,\n",
       "  0.7583333253860474,\n",
       "  0.7583333253860474,\n",
       "  0.7666666507720947,\n",
       "  0.7666666507720947,\n",
       "  0.7666666507720947,\n",
       "  0.7666666507720947,\n",
       "  0.7666666507720947,\n",
       "  0.7749999761581421,\n",
       "  0.7749999761581421,\n",
       "  0.7749999761581421,\n",
       "  0.7749999761581421,\n",
       "  0.7833333611488342,\n",
       "  0.7749999761581421,\n",
       "  0.7916666865348816,\n",
       "  0.7749999761581421,\n",
       "  0.7916666865348816,\n",
       "  0.7916666865348816,\n",
       "  0.7916666865348816,\n",
       "  0.800000011920929,\n",
       "  0.7916666865348816]}"
      ]
     },
     "execution_count": 35,
     "metadata": {},
     "output_type": "execute_result"
    }
   ],
   "source": [
    "history.history"
   ]
  },
  {
   "cell_type": "markdown",
   "metadata": {},
   "source": [
    "Now visualize the loss over time using `history.history`: "
   ]
  },
  {
   "cell_type": "code",
   "execution_count": 36,
   "metadata": {},
   "outputs": [
    {
     "data": {
      "text/plain": [
       "[Text(0, 0.5, 'Accuracy'), Text(0.5, 0, 'Epoch')]"
      ]
     },
     "execution_count": 36,
     "metadata": {},
     "output_type": "execute_result"
    },
    {
     "data": {
      "image/png": "[encoded data removed]",
      "text/plain": [
       "<Figure size 864x576 with 1 Axes>"
      ]
     },
     "metadata": {
      "needs_background": "light"
     },
     "output_type": "display_data"
    },
    {
     "data": {
      "image/png": "[encoded data removed]",
      "text/plain": [
       "<Figure size 864x576 with 1 Axes>"
      ]
     },
     "metadata": {
      "needs_background": "light"
     },
     "output_type": "display_data"
    }
   ],
   "source": [
    "# The history.history[\"loss\"] entry is a dictionary with as many values as epochs that the\n",
    "# model was trained on. \n",
    "df_loss_acc = pd.DataFrame(history.history)\n",
    "df_loss= df_loss_acc[['loss','val_loss']]\n",
    "df_loss.rename(columns={'loss':'train','val_loss':'validation'},inplace=True)\n",
    "df_acc= df_loss_acc[['accuracy','val_accuracy']]\n",
    "df_acc.rename(columns={'accuracy':'train','val_accuracy':'validation'},inplace=True)\n",
    "df_loss.plot(title='Model loss',figsize=(12,8)).set(xlabel='Epoch',ylabel='Loss')\n",
    "df_acc.plot(title='Model Accuracy',figsize=(12,8)).set(xlabel='Epoch',ylabel='Accuracy')"
   ]
  },
  {
   "cell_type": "markdown",
   "metadata": {},
   "source": [
    "**Congratulations**! You've finished the assignment and built two models: One that recognizes  smiles, and another that recognizes SIGN language with almost 80% accuracy on the test set. In addition to that, you now also understand the applications of two Keras APIs: Sequential and Functional. Nicely done! \n",
    "\n",
    "By now, you know a bit about how the Functional API works and may have glimpsed the possibilities. In your next assignment, you'll really get a feel for its power when you get the opportunity to build a very deep ConvNet, using ResNets! "
   ]
  },
  {
   "cell_type": "markdown",
   "metadata": {},
   "source": [
    "<a name='6'></a>\n",
    "## 6 - Bibliography\n",
    "\n",
    "You're always encouraged to read the official documentation. To that end, you can find the docs for the Sequential and Functional APIs here: \n",
    "\n",
    "https://www.tensorflow.org/guide/keras/sequential_model\n",
    "\n",
    "https://www.tensorflow.org/guide/keras/functional"
   ]
  }
 ],
 "metadata": {
  "coursera": {
   "course_slug": "convolutional-neural-networks",
   "graded_item_id": "bwbJV",
   "launcher_item_id": "0TkXB"
  },
  "kernelspec": {
   "display_name": "Python 3",
   "language": "python",
   "name": "python3"
  },
  "language_info": {
   "codemirror_mode": {
    "name": "ipython",
    "version": 3
   },
   "file_extension": ".py",
   "mimetype": "text/x-python",
   "name": "python",
   "nbconvert_exporter": "python",
   "pygments_lexer": "ipython3",
   "version": "3.7.6"
  }
 },
 "nbformat": 4,
 "nbformat_minor": 2
}
